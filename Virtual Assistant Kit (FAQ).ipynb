{
 "cells": [
  {
   "cell_type": "code",
   "execution_count": 2,
   "metadata": {},
   "outputs": [],
   "source": [
    "import numpy as np\n",
    "import pandas as pd"
   ]
  },
  {
   "cell_type": "code",
   "execution_count": 3,
   "metadata": {},
   "outputs": [
    {
     "name": "stderr",
     "output_type": "stream",
     "text": [
      "[nltk_data] Downloading package stopwords to\n",
      "[nltk_data]     C:\\Users\\B.RohithKumar\\AppData\\Roaming\\nltk_data...\n",
      "[nltk_data]   Unzipping corpora\\stopwords.zip.\n"
     ]
    },
    {
     "name": "stdout",
     "output_type": "stream",
     "text": [
      "✔ Download and installation successful\n",
      "You can now load the model via spacy.load('en_core_web_sm')\n"
     ]
    }
   ],
   "source": [
    "#Import libraries for text mining\n",
    "from lingualytics.preprocessing import remove_lessthan, remove_punctuation, remove_stopwords\n",
    "from lingualytics.stopwords import en_stopwords\n",
    "from texthero.preprocessing import remove_digits"
   ]
  },
  {
   "cell_type": "code",
   "execution_count": 5,
   "metadata": {},
   "outputs": [],
   "source": [
    "#Import libraries for transformers\n",
    "from sentence_transformers import SentenceTransformer"
   ]
  },
  {
   "cell_type": "code",
   "execution_count": 6,
   "metadata": {},
   "outputs": [],
   "source": [
    "#Import libraries for computing similarities\n",
    "from torch.nn import CosineSimilarity\n",
    "import torch"
   ]
  },
  {
   "cell_type": "code",
   "execution_count": 7,
   "metadata": {},
   "outputs": [],
   "source": [
    "#Import library for storing into binary file\n",
    "import pickle"
   ]
  },
  {
   "cell_type": "code",
   "execution_count": 15,
   "metadata": {},
   "outputs": [
    {
     "data": {
      "text/html": [
       "<div>\n",
       "<style scoped>\n",
       "    .dataframe tbody tr th:only-of-type {\n",
       "        vertical-align: middle;\n",
       "    }\n",
       "\n",
       "    .dataframe tbody tr th {\n",
       "        vertical-align: top;\n",
       "    }\n",
       "\n",
       "    .dataframe thead th {\n",
       "        text-align: right;\n",
       "    }\n",
       "</style>\n",
       "<table border=\"1\" class=\"dataframe\">\n",
       "  <thead>\n",
       "    <tr style=\"text-align: right;\">\n",
       "      <th></th>\n",
       "      <th>Q</th>\n",
       "      <th>A</th>\n",
       "    </tr>\n",
       "  </thead>\n",
       "  <tbody>\n",
       "    <tr>\n",
       "      <th>0</th>\n",
       "      <td>What is kandi?</td>\n",
       "      <td>kandi (pronounced kan·dee) is a platform that helps developers pick the right library, package, code samples, APIs, and cloud functions, by analyzing over 430 million knowledge items.</td>\n",
       "    </tr>\n",
       "    <tr>\n",
       "      <th>1</th>\n",
       "      <td>Have feedback or want to know more?</td>\n",
       "      <td>We are a passionate set of application focused techies. Wed love to hear from you on your feedback, questions, and any other comments.\\nDirect Message us on Twitter Message @OpenWeaverInc\\nYou can email us at kandi.support@openweaver.com\\nJoin our Discord community here</td>\n",
       "    </tr>\n",
       "    <tr>\n",
       "      <th>2</th>\n",
       "      <td>What components does kandi cover?</td>\n",
       "      <td>kandi helps you select software components across:\\nPackages from all package managers and repositories\\nSource Code across all major code repositories\\nCloud Functions and APIs across all hyperscale cloud providers</td>\n",
       "    </tr>\n",
       "    <tr>\n",
       "      <th>3</th>\n",
       "      <td>How do I use kandi?</td>\n",
       "      <td>kandi provides two simplified experiences to help you choose the right software component to accelerate your application development:\\n\\n1. Search\\nYou can search for the component using natural language to describe your functional and technical requirements, and kandi gets to work by matching these over 430 million knowledge items to show you a shortlist.\\nYou can further filter them or refine your query and pick your chosen ones based on scores available on the component listing page.\\nClick on the components from the list to review detailed insights such as support, quality, security, and a reference guide covering code snippets, community discussions from the provider, and popular channels.\\nThe component listing and detailed insights page have links to the software component home. Some software components may have multiple providers, and you can access all the links.\\n\\n2. Explore\\nYou can Explore kandi curated sections across Popular Collections, Hot Tech, and Industry Domains from the Home Page or the Explore Page. These sections list the popular components among your peers, have functional relevance, and positive security, quality, and support scores in the respective areas.\\nYou can browse these sections to get industry insights.\\nYou can further filter them and pick your chosen ones based on scores available on the component listing page.\\nClick on the components from the list to review detailed insights such as support, quality, security, and a reference guide covering code snippets, community discussions from the provider, and popular channels.\\nThe component listing and detailed insights page have links to the software component home. Some software components may have multiple providers, and you can access all the links.</td>\n",
       "    </tr>\n",
       "    <tr>\n",
       "      <th>4</th>\n",
       "      <td>How do I shortlist components on kandi?</td>\n",
       "      <td>You can use the below filters to shortlist components based on your architectural preferences:\\n\\nLanguages  This is an expanding list of languages chosen by popularity amongst kandi users.\\nLicenses  Licenses are grouped by:\\n\\nOSS License families, covering Permissive, Weak Copyleft, and Strong Copyleft.\\nProprietary license category covering the emerging cloud licenses as well as As-a-Service contracts.\\nNo License indicates that the respective repository does not have the license file declared as per the repository managers standard. They could still have a license file declared in a different format or section. Components without a license have all rights reserved, and you may not be able to use them. Hence kandi alerts you when a valid license file is not found.\\n\\nSupport  High support indicates a thriving ecosystem across the author and users, that will help you implement with relative ease.\\nComponent Types  Component Types are grouped by:\\n\\nLibraries from package managers and repositories that can be readily installed.\\nSource Code that may or may not be associated with a package and are from code repositories.\\nCloud Functions and APIs that are provided As-a-Service from cloud providers.\\n\\nSources  This is an expanding list of software component sources chosen by popularity amongst kandi users.\\nIndustries  This indicates the industry domain that the component has been associated with or could be used in, for specific use cases.\\nSecurity  This reflects the security score of the software component across reported and code-based vulnerabilities.</td>\n",
       "    </tr>\n",
       "    <tr>\n",
       "      <th>5</th>\n",
       "      <td>How do I implement the components that I have selected on kandi?</td>\n",
       "      <td>The component listing and detailed insights page have links to the software component home. Some software components may have multiple providers, and you can access all the links.\\nYou can follow implementation instructions from the software component home page based on the component type.</td>\n",
       "    </tr>\n",
       "  </tbody>\n",
       "</table>\n",
       "</div>"
      ],
      "text/plain": [
       "                                                                  Q  \\\n",
       "0                                                    What is kandi?   \n",
       "1                               Have feedback or want to know more?   \n",
       "2                                 What components does kandi cover?   \n",
       "3                                               How do I use kandi?   \n",
       "4                           How do I shortlist components on kandi?   \n",
       "5  How do I implement the components that I have selected on kandi?   \n",
       "\n",
       "                                                                                                                                                                                                                                                                                                                                                                                                                                                                                                                                                                                                                                                                                                                                                                                                                                                                                                                                                                                                                                                                                                                                                                                                                                                                                                                                                                                                                                                                                                                                                                                                                                                                                                                                                                                                                                     A  \n",
       "0                                                                                                                                                                                                                                                                                                                                                                                                                                                                                                                                                                                                                                                                                                                                                                                                                                                                                                                                                                                                                                                                                                                                                                                                                                                                                                                                                                                                                                                                                                                                                                                                                                              kandi (pronounced kan·dee) is a platform that helps developers pick the right library, package, code samples, APIs, and cloud functions, by analyzing over 430 million knowledge items.  \n",
       "1                                                                                                                                                                                                                                                                                                                                                                                                                                                                                                                                                                                                                                                                                                                                                                                                                                                                                                                                                                                                                                                                                                                                                                                                                                                                                                                                                                                                                                                                                                                                                      We are a passionate set of application focused techies. Wed love to hear from you on your feedback, questions, and any other comments.\\nDirect Message us on Twitter Message @OpenWeaverInc\\nYou can email us at kandi.support@openweaver.com\\nJoin our Discord community here  \n",
       "2                                                                                                                                                                                                                                                                                                                                                                                                                                                                                                                                                                                                                                                                                                                                                                                                                                                                                                                                                                                                                                                                                                                                                                                                                                                                                                                                                                                                                                                                                                                                                                                                              kandi helps you select software components across:\\nPackages from all package managers and repositories\\nSource Code across all major code repositories\\nCloud Functions and APIs across all hyperscale cloud providers  \n",
       "3  kandi provides two simplified experiences to help you choose the right software component to accelerate your application development:\\n\\n1. Search\\nYou can search for the component using natural language to describe your functional and technical requirements, and kandi gets to work by matching these over 430 million knowledge items to show you a shortlist.\\nYou can further filter them or refine your query and pick your chosen ones based on scores available on the component listing page.\\nClick on the components from the list to review detailed insights such as support, quality, security, and a reference guide covering code snippets, community discussions from the provider, and popular channels.\\nThe component listing and detailed insights page have links to the software component home. Some software components may have multiple providers, and you can access all the links.\\n\\n2. Explore\\nYou can Explore kandi curated sections across Popular Collections, Hot Tech, and Industry Domains from the Home Page or the Explore Page. These sections list the popular components among your peers, have functional relevance, and positive security, quality, and support scores in the respective areas.\\nYou can browse these sections to get industry insights.\\nYou can further filter them and pick your chosen ones based on scores available on the component listing page.\\nClick on the components from the list to review detailed insights such as support, quality, security, and a reference guide covering code snippets, community discussions from the provider, and popular channels.\\nThe component listing and detailed insights page have links to the software component home. Some software components may have multiple providers, and you can access all the links.  \n",
       "4                                                                                                                                                                              You can use the below filters to shortlist components based on your architectural preferences:\\n\\nLanguages  This is an expanding list of languages chosen by popularity amongst kandi users.\\nLicenses  Licenses are grouped by:\\n\\nOSS License families, covering Permissive, Weak Copyleft, and Strong Copyleft.\\nProprietary license category covering the emerging cloud licenses as well as As-a-Service contracts.\\nNo License indicates that the respective repository does not have the license file declared as per the repository managers standard. They could still have a license file declared in a different format or section. Components without a license have all rights reserved, and you may not be able to use them. Hence kandi alerts you when a valid license file is not found.\\n\\nSupport  High support indicates a thriving ecosystem across the author and users, that will help you implement with relative ease.\\nComponent Types  Component Types are grouped by:\\n\\nLibraries from package managers and repositories that can be readily installed.\\nSource Code that may or may not be associated with a package and are from code repositories.\\nCloud Functions and APIs that are provided As-a-Service from cloud providers.\\n\\nSources  This is an expanding list of software component sources chosen by popularity amongst kandi users.\\nIndustries  This indicates the industry domain that the component has been associated with or could be used in, for specific use cases.\\nSecurity  This reflects the security score of the software component across reported and code-based vulnerabilities.  \n",
       "5                                                                                                                                                                                                                                                                                                                                                                                                                                                                                                                                                                                                                                                                                                                                                                                                                                                                                                                                                                                                                                                                                                                                                                                                                                                                                                                                                                                                                                                                                                                                   The component listing and detailed insights page have links to the software component home. Some software components may have multiple providers, and you can access all the links.\\nYou can follow implementation instructions from the software component home page based on the component type.  "
      ]
     },
     "execution_count": 15,
     "metadata": {},
     "output_type": "execute_result"
    }
   ],
   "source": [
    "#Load data source into dataframe\n",
    "\n",
    "DATA_SOURCE_PATH = r\"D:\\Semester 5\\VA\\faq-virtual-agent-main\\faqs.csv\"\n",
    "df = pd.read_csv(DATA_SOURCE_PATH, encoding ='latin1')\n",
    "pd.set_option('display.max_colwidth', None)\n",
    "df"
   ]
  },
  {
   "cell_type": "code",
   "execution_count": 16,
   "metadata": {},
   "outputs": [
    {
     "data": {
      "text/html": [
       "<div>\n",
       "<style scoped>\n",
       "    .dataframe tbody tr th:only-of-type {\n",
       "        vertical-align: middle;\n",
       "    }\n",
       "\n",
       "    .dataframe tbody tr th {\n",
       "        vertical-align: top;\n",
       "    }\n",
       "\n",
       "    .dataframe thead th {\n",
       "        text-align: right;\n",
       "    }\n",
       "</style>\n",
       "<table border=\"1\" class=\"dataframe\">\n",
       "  <thead>\n",
       "    <tr style=\"text-align: right;\">\n",
       "      <th></th>\n",
       "      <th>Q</th>\n",
       "      <th>A</th>\n",
       "      <th>procd_Q</th>\n",
       "    </tr>\n",
       "  </thead>\n",
       "  <tbody>\n",
       "    <tr>\n",
       "      <th>0</th>\n",
       "      <td>What is kandi?</td>\n",
       "      <td>kandi (pronounced kan·dee) is a platform that helps developers pick the right library, package, code samples, APIs, and cloud functions, by analyzing over 430 million knowledge items.</td>\n",
       "      <td>What is kandi</td>\n",
       "    </tr>\n",
       "    <tr>\n",
       "      <th>1</th>\n",
       "      <td>Have feedback or want to know more?</td>\n",
       "      <td>We are a passionate set of application focused techies. Wed love to hear from you on your feedback, questions, and any other comments.\\nDirect Message us on Twitter Message @OpenWeaverInc\\nYou can email us at kandi.support@openweaver.com\\nJoin our Discord community here</td>\n",
       "      <td>Have feedback or want to know more</td>\n",
       "    </tr>\n",
       "    <tr>\n",
       "      <th>2</th>\n",
       "      <td>What components does kandi cover?</td>\n",
       "      <td>kandi helps you select software components across:\\nPackages from all package managers and repositories\\nSource Code across all major code repositories\\nCloud Functions and APIs across all hyperscale cloud providers</td>\n",
       "      <td>What components does kandi cover</td>\n",
       "    </tr>\n",
       "    <tr>\n",
       "      <th>3</th>\n",
       "      <td>How do I use kandi?</td>\n",
       "      <td>kandi provides two simplified experiences to help you choose the right software component to accelerate your application development:\\n\\n1. Search\\nYou can search for the component using natural language to describe your functional and technical requirements, and kandi gets to work by matching these over 430 million knowledge items to show you a shortlist.\\nYou can further filter them or refine your query and pick your chosen ones based on scores available on the component listing page.\\nClick on the components from the list to review detailed insights such as support, quality, security, and a reference guide covering code snippets, community discussions from the provider, and popular channels.\\nThe component listing and detailed insights page have links to the software component home. Some software components may have multiple providers, and you can access all the links.\\n\\n2. Explore\\nYou can Explore kandi curated sections across Popular Collections, Hot Tech, and Industry Domains from the Home Page or the Explore Page. These sections list the popular components among your peers, have functional relevance, and positive security, quality, and support scores in the respective areas.\\nYou can browse these sections to get industry insights.\\nYou can further filter them and pick your chosen ones based on scores available on the component listing page.\\nClick on the components from the list to review detailed insights such as support, quality, security, and a reference guide covering code snippets, community discussions from the provider, and popular channels.\\nThe component listing and detailed insights page have links to the software component home. Some software components may have multiple providers, and you can access all the links.</td>\n",
       "      <td>How do I use kandi</td>\n",
       "    </tr>\n",
       "    <tr>\n",
       "      <th>4</th>\n",
       "      <td>How do I shortlist components on kandi?</td>\n",
       "      <td>You can use the below filters to shortlist components based on your architectural preferences:\\n\\nLanguages  This is an expanding list of languages chosen by popularity amongst kandi users.\\nLicenses  Licenses are grouped by:\\n\\nOSS License families, covering Permissive, Weak Copyleft, and Strong Copyleft.\\nProprietary license category covering the emerging cloud licenses as well as As-a-Service contracts.\\nNo License indicates that the respective repository does not have the license file declared as per the repository managers standard. They could still have a license file declared in a different format or section. Components without a license have all rights reserved, and you may not be able to use them. Hence kandi alerts you when a valid license file is not found.\\n\\nSupport  High support indicates a thriving ecosystem across the author and users, that will help you implement with relative ease.\\nComponent Types  Component Types are grouped by:\\n\\nLibraries from package managers and repositories that can be readily installed.\\nSource Code that may or may not be associated with a package and are from code repositories.\\nCloud Functions and APIs that are provided As-a-Service from cloud providers.\\n\\nSources  This is an expanding list of software component sources chosen by popularity amongst kandi users.\\nIndustries  This indicates the industry domain that the component has been associated with or could be used in, for specific use cases.\\nSecurity  This reflects the security score of the software component across reported and code-based vulnerabilities.</td>\n",
       "      <td>How do I shortlist components on kandi</td>\n",
       "    </tr>\n",
       "    <tr>\n",
       "      <th>5</th>\n",
       "      <td>How do I implement the components that I have selected on kandi?</td>\n",
       "      <td>The component listing and detailed insights page have links to the software component home. Some software components may have multiple providers, and you can access all the links.\\nYou can follow implementation instructions from the software component home page based on the component type.</td>\n",
       "      <td>How do I implement the components that I have selected on kandi</td>\n",
       "    </tr>\n",
       "  </tbody>\n",
       "</table>\n",
       "</div>"
      ],
      "text/plain": [
       "                                                                  Q  \\\n",
       "0                                                    What is kandi?   \n",
       "1                               Have feedback or want to know more?   \n",
       "2                                 What components does kandi cover?   \n",
       "3                                               How do I use kandi?   \n",
       "4                           How do I shortlist components on kandi?   \n",
       "5  How do I implement the components that I have selected on kandi?   \n",
       "\n",
       "                                                                                                                                                                                                                                                                                                                                                                                                                                                                                                                                                                                                                                                                                                                                                                                                                                                                                                                                                                                                                                                                                                                                                                                                                                                                                                                                                                                                                                                                                                                                                                                                                                                                                                                                                                                                                                     A  \\\n",
       "0                                                                                                                                                                                                                                                                                                                                                                                                                                                                                                                                                                                                                                                                                                                                                                                                                                                                                                                                                                                                                                                                                                                                                                                                                                                                                                                                                                                                                                                                                                                                                                                                                                              kandi (pronounced kan·dee) is a platform that helps developers pick the right library, package, code samples, APIs, and cloud functions, by analyzing over 430 million knowledge items.   \n",
       "1                                                                                                                                                                                                                                                                                                                                                                                                                                                                                                                                                                                                                                                                                                                                                                                                                                                                                                                                                                                                                                                                                                                                                                                                                                                                                                                                                                                                                                                                                                                                                      We are a passionate set of application focused techies. Wed love to hear from you on your feedback, questions, and any other comments.\\nDirect Message us on Twitter Message @OpenWeaverInc\\nYou can email us at kandi.support@openweaver.com\\nJoin our Discord community here   \n",
       "2                                                                                                                                                                                                                                                                                                                                                                                                                                                                                                                                                                                                                                                                                                                                                                                                                                                                                                                                                                                                                                                                                                                                                                                                                                                                                                                                                                                                                                                                                                                                                                                                              kandi helps you select software components across:\\nPackages from all package managers and repositories\\nSource Code across all major code repositories\\nCloud Functions and APIs across all hyperscale cloud providers   \n",
       "3  kandi provides two simplified experiences to help you choose the right software component to accelerate your application development:\\n\\n1. Search\\nYou can search for the component using natural language to describe your functional and technical requirements, and kandi gets to work by matching these over 430 million knowledge items to show you a shortlist.\\nYou can further filter them or refine your query and pick your chosen ones based on scores available on the component listing page.\\nClick on the components from the list to review detailed insights such as support, quality, security, and a reference guide covering code snippets, community discussions from the provider, and popular channels.\\nThe component listing and detailed insights page have links to the software component home. Some software components may have multiple providers, and you can access all the links.\\n\\n2. Explore\\nYou can Explore kandi curated sections across Popular Collections, Hot Tech, and Industry Domains from the Home Page or the Explore Page. These sections list the popular components among your peers, have functional relevance, and positive security, quality, and support scores in the respective areas.\\nYou can browse these sections to get industry insights.\\nYou can further filter them and pick your chosen ones based on scores available on the component listing page.\\nClick on the components from the list to review detailed insights such as support, quality, security, and a reference guide covering code snippets, community discussions from the provider, and popular channels.\\nThe component listing and detailed insights page have links to the software component home. Some software components may have multiple providers, and you can access all the links.   \n",
       "4                                                                                                                                                                              You can use the below filters to shortlist components based on your architectural preferences:\\n\\nLanguages  This is an expanding list of languages chosen by popularity amongst kandi users.\\nLicenses  Licenses are grouped by:\\n\\nOSS License families, covering Permissive, Weak Copyleft, and Strong Copyleft.\\nProprietary license category covering the emerging cloud licenses as well as As-a-Service contracts.\\nNo License indicates that the respective repository does not have the license file declared as per the repository managers standard. They could still have a license file declared in a different format or section. Components without a license have all rights reserved, and you may not be able to use them. Hence kandi alerts you when a valid license file is not found.\\n\\nSupport  High support indicates a thriving ecosystem across the author and users, that will help you implement with relative ease.\\nComponent Types  Component Types are grouped by:\\n\\nLibraries from package managers and repositories that can be readily installed.\\nSource Code that may or may not be associated with a package and are from code repositories.\\nCloud Functions and APIs that are provided As-a-Service from cloud providers.\\n\\nSources  This is an expanding list of software component sources chosen by popularity amongst kandi users.\\nIndustries  This indicates the industry domain that the component has been associated with or could be used in, for specific use cases.\\nSecurity  This reflects the security score of the software component across reported and code-based vulnerabilities.   \n",
       "5                                                                                                                                                                                                                                                                                                                                                                                                                                                                                                                                                                                                                                                                                                                                                                                                                                                                                                                                                                                                                                                                                                                                                                                                                                                                                                                                                                                                                                                                                                                                   The component listing and detailed insights page have links to the software component home. Some software components may have multiple providers, and you can access all the links.\\nYou can follow implementation instructions from the software component home page based on the component type.   \n",
       "\n",
       "                                                            procd_Q  \n",
       "0                                                    What is kandi   \n",
       "1                               Have feedback or want to know more   \n",
       "2                                 What components does kandi cover   \n",
       "3                                               How do I use kandi   \n",
       "4                           How do I shortlist components on kandi   \n",
       "5  How do I implement the components that I have selected on kandi   "
      ]
     },
     "execution_count": 16,
     "metadata": {},
     "output_type": "execute_result"
    }
   ],
   "source": [
    "#Cleanse data by removing numbers and punctutation\n",
    "df['procd_Q'] = df['Q'].pipe(remove_digits).pipe(remove_punctuation)#.pipe(remove_lessthan,length=3)\\\n",
    "                                                    #.pipe(remove_stopwords,stopwords=en_stopwords.union(hi_stopwords))\n",
    "df"
   ]
  },
  {
   "cell_type": "code",
   "execution_count": 17,
   "metadata": {},
   "outputs": [
    {
     "data": {
      "application/vnd.jupyter.widget-view+json": {
       "model_id": "70d02d16d3f341cbb108ab43c4d7fb18",
       "version_major": 2,
       "version_minor": 0
      },
      "text/plain": [
       "HBox(children=(HTML(value='Downloading'), FloatProgress(value=0.0, max=690.0), HTML(value='')))"
      ]
     },
     "metadata": {},
     "output_type": "display_data"
    },
    {
     "name": "stdout",
     "output_type": "stream",
     "text": [
      "\n"
     ]
    },
    {
     "data": {
      "application/vnd.jupyter.widget-view+json": {
       "model_id": "ec35c6786c154b219d628e8b77acc923",
       "version_major": 2,
       "version_minor": 0
      },
      "text/plain": [
       "HBox(children=(HTML(value='Downloading'), FloatProgress(value=0.0, max=3693.0), HTML(value='')))"
      ]
     },
     "metadata": {},
     "output_type": "display_data"
    },
    {
     "name": "stdout",
     "output_type": "stream",
     "text": [
      "\n"
     ]
    },
    {
     "data": {
      "application/vnd.jupyter.widget-view+json": {
       "model_id": "8fe5f031a67044eca3a9f29580257677",
       "version_major": 2,
       "version_minor": 0
      },
      "text/plain": [
       "HBox(children=(HTML(value='Downloading'), FloatProgress(value=0.0, max=629.0), HTML(value='')))"
      ]
     },
     "metadata": {},
     "output_type": "display_data"
    },
    {
     "name": "stdout",
     "output_type": "stream",
     "text": [
      "\n"
     ]
    },
    {
     "data": {
      "application/vnd.jupyter.widget-view+json": {
       "model_id": "2680846c41af4b34a7a8fda659b54dd7",
       "version_major": 2,
       "version_minor": 0
      },
      "text/plain": [
       "HBox(children=(HTML(value='Downloading'), FloatProgress(value=0.0, max=122.0), HTML(value='')))"
      ]
     },
     "metadata": {},
     "output_type": "display_data"
    },
    {
     "name": "stdout",
     "output_type": "stream",
     "text": [
      "\n"
     ]
    },
    {
     "data": {
      "application/vnd.jupyter.widget-view+json": {
       "model_id": "65a754c25ca44e619f6b1688150e1472",
       "version_major": 2,
       "version_minor": 0
      },
      "text/plain": [
       "HBox(children=(HTML(value='Downloading'), FloatProgress(value=0.0, max=229.0), HTML(value='')))"
      ]
     },
     "metadata": {},
     "output_type": "display_data"
    },
    {
     "name": "stdout",
     "output_type": "stream",
     "text": [
      "\n"
     ]
    },
    {
     "data": {
      "application/vnd.jupyter.widget-view+json": {
       "model_id": "dd2c5261f82c41d38e08a8aa2ef59c3a",
       "version_major": 2,
       "version_minor": 0
      },
      "text/plain": [
       "HBox(children=(HTML(value='Downloading'), FloatProgress(value=0.0, max=90895153.0), HTML(value='')))"
      ]
     },
     "metadata": {},
     "output_type": "display_data"
    },
    {
     "name": "stdout",
     "output_type": "stream",
     "text": [
      "\n"
     ]
    },
    {
     "data": {
      "application/vnd.jupyter.widget-view+json": {
       "model_id": "9ce3921b8006417e9a16c31bf2f8271b",
       "version_major": 2,
       "version_minor": 0
      },
      "text/plain": [
       "HBox(children=(HTML(value='Downloading'), FloatProgress(value=0.0, max=53.0), HTML(value='')))"
      ]
     },
     "metadata": {},
     "output_type": "display_data"
    },
    {
     "name": "stdout",
     "output_type": "stream",
     "text": [
      "\n"
     ]
    },
    {
     "data": {
      "application/vnd.jupyter.widget-view+json": {
       "model_id": "fde289d4838a43bb8e814b7bb2d9a6fb",
       "version_major": 2,
       "version_minor": 0
      },
      "text/plain": [
       "HBox(children=(HTML(value='Downloading'), FloatProgress(value=0.0, max=112.0), HTML(value='')))"
      ]
     },
     "metadata": {},
     "output_type": "display_data"
    },
    {
     "name": "stdout",
     "output_type": "stream",
     "text": [
      "\n"
     ]
    },
    {
     "data": {
      "application/vnd.jupyter.widget-view+json": {
       "model_id": "4695b9d2085d4d6881b1650ed693a83d",
       "version_major": 2,
       "version_minor": 0
      },
      "text/plain": [
       "HBox(children=(HTML(value='Downloading'), FloatProgress(value=0.0, max=466081.0), HTML(value='')))"
      ]
     },
     "metadata": {},
     "output_type": "display_data"
    },
    {
     "name": "stdout",
     "output_type": "stream",
     "text": [
      "\n"
     ]
    },
    {
     "data": {
      "application/vnd.jupyter.widget-view+json": {
       "model_id": "252476a26fc84a53af971a09d2b9aba4",
       "version_major": 2,
       "version_minor": 0
      },
      "text/plain": [
       "HBox(children=(HTML(value='Downloading'), FloatProgress(value=0.0, max=314.0), HTML(value='')))"
      ]
     },
     "metadata": {},
     "output_type": "display_data"
    },
    {
     "name": "stdout",
     "output_type": "stream",
     "text": [
      "\n"
     ]
    },
    {
     "data": {
      "application/vnd.jupyter.widget-view+json": {
       "model_id": "f04f7c3ebca44970b9595dcc4ce2e5e6",
       "version_major": 2,
       "version_minor": 0
      },
      "text/plain": [
       "HBox(children=(HTML(value='Downloading'), FloatProgress(value=0.0, max=231508.0), HTML(value='')))"
      ]
     },
     "metadata": {},
     "output_type": "display_data"
    },
    {
     "name": "stdout",
     "output_type": "stream",
     "text": [
      "\n"
     ]
    },
    {
     "data": {
      "application/vnd.jupyter.widget-view+json": {
       "model_id": "469a18a2872d4964a37a28397aa0512a",
       "version_major": 2,
       "version_minor": 0
      },
      "text/plain": [
       "HBox(children=(HTML(value='Downloading'), FloatProgress(value=0.0, max=190.0), HTML(value='')))"
      ]
     },
     "metadata": {},
     "output_type": "display_data"
    },
    {
     "name": "stdout",
     "output_type": "stream",
     "text": [
      "\n"
     ]
    }
   ],
   "source": [
    "#Load sentence transformer model of your choice for getting sentence embeddings\n",
    "model = SentenceTransformer('paraphrase-MiniLM-L6-v2')"
   ]
  },
  {
   "cell_type": "code",
   "execution_count": 18,
   "metadata": {},
   "outputs": [
    {
     "name": "stderr",
     "output_type": "stream",
     "text": [
      "C:\\Users\\B.RohithKumar\\anaconda3\\lib\\site-packages\\transformers\\tokenization_utils_base.py:2227: UserWarning: `max_length` is ignored when `padding`=`True`.\n",
      "  warnings.warn(\"`max_length` is ignored when `padding`=`True`.\")\n"
     ]
    }
   ],
   "source": [
    "#Find embeddings of sentences and store in a binary file\n",
    "MODEL_PATH = r\"D:\\Semester 5\\VA\\faq-virtual-agent-main\\models\\model_va.pickle\"\n",
    "q_embs = model.encode(df[\"procd_Q\"]) # computes encode for all the questions from the dataset. \n",
    "                                    #Embeddings can be computed in batches for massive dataset.\n",
    "with open(MODEL_PATH, \"wb\") as file:\n",
    "    pickle.dump(q_embs, file)"
   ]
  },
  {
   "cell_type": "code",
   "execution_count": 20,
   "metadata": {},
   "outputs": [],
   "source": [
    "#Load embeddings from binary file into memory\n",
    "with open(r\"D:\\Semester 5\\VA\\faq-virtual-agent-main\\models\\model_va.pickle\", \"rb\") as file:\n",
    "    q_embs = pickle.load(file)"
   ]
  },
  {
   "cell_type": "code",
   "execution_count": 21,
   "metadata": {},
   "outputs": [],
   "source": [
    "#Predict answer to user query\n",
    "def pred_answer(usr_query):\n",
    "    df_query = pd.DataFrame([usr_query], columns=[\"usr_query\"]) # use similar pipeline that was used for computing embeddings from dataset\n",
    "    df_query[\"clean_usr_q\"] = df_query[\"usr_query\"].pipe(remove_digits).pipe(remove_punctuation)\n",
    "    usr_q_emb = model.encode(df_query[\"clean_usr_q\"]) # compute embedding\n",
    "    cosine_similarity = CosineSimilarity()\n",
    "    q_idx = np.argmax(cosine_similarity(torch.from_numpy(usr_q_emb), torch.from_numpy(q_embs))) # compute cosine similarity and find the matched query\n",
    "    print(df[\"A\"][q_idx.item()]) # look up answer of the matched query from the dataframe of input dataset"
   ]
  },
  {
   "cell_type": "code",
   "execution_count": 22,
   "metadata": {},
   "outputs": [],
   "source": [
    "usr_query = \"tell me about kandi\""
   ]
  },
  {
   "cell_type": "code",
   "execution_count": 23,
   "metadata": {},
   "outputs": [
    {
     "name": "stdout",
     "output_type": "stream",
     "text": [
      "kandi (pronounced kan·dee) is a platform that helps developers pick the right library, package, code samples, APIs, and cloud functions, by analyzing over 430 million knowledge items.\n"
     ]
    }
   ],
   "source": [
    "pred_answer(usr_query)"
   ]
  },
  {
   "cell_type": "code",
   "execution_count": 24,
   "metadata": {},
   "outputs": [
    {
     "name": "stdout",
     "output_type": "stream",
     "text": [
      "Ask a query:wat is kandi?\n",
      "kandi (pronounced kan·dee) is a platform that helps developers pick the right library, package, code samples, APIs, and cloud functions, by analyzing over 430 million knowledge items.\n",
      "Answer:  None\n",
      "-----------------\n",
      "Ask a query:i wanna know more\n",
      "We are a passionate set of application focused techies. Wed love to hear from you on your feedback, questions, and any other comments.\n",
      "Direct Message us on Twitter Message @OpenWeaverInc\n",
      "You can email us at kandi.support@openweaver.com\n",
      "Join our Discord community here\n",
      "Answer:  None\n",
      "-----------------\n",
      "Ask a query:exit\n"
     ]
    }
   ],
   "source": [
    "#Simulating Virtual Agent\n",
    "while True:\n",
    "    usr_q = input(\"Ask a query:\")\n",
    "    if usr_q == \"exit\":\n",
    "        break\n",
    "    else:\n",
    "        print(\"Answer: \", pred_answer(usr_q))\n",
    "    print(\"-----------------\")"
   ]
  },
  {
   "cell_type": "code",
   "execution_count": null,
   "metadata": {},
   "outputs": [],
   "source": []
  }
 ],
 "metadata": {
  "kernelspec": {
   "display_name": "Python 3",
   "language": "python",
   "name": "python3"
  },
  "language_info": {
   "codemirror_mode": {
    "name": "ipython",
    "version": 3
   },
   "file_extension": ".py",
   "mimetype": "text/x-python",
   "name": "python",
   "nbconvert_exporter": "python",
   "pygments_lexer": "ipython3",
   "version": "3.8.5"
  }
 },
 "nbformat": 4,
 "nbformat_minor": 4
}
